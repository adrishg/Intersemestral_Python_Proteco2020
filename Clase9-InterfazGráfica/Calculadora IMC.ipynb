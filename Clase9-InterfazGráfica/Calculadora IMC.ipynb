{
 "cells": [
  {
   "cell_type": "code",
   "execution_count": 24,
   "metadata": {},
   "outputs": [],
   "source": [
    "import tkinter as tk\n",
    "\n",
    "\n",
    "ventana2 = tk.Tk() #«Tk()» crea la ventana principal\n",
    "ventana2.title(\"Calculadora de IMC PROTECO\") #«title()» se usa para titular\n",
    "ventana2.resizable(False, False) #«Resizable()» es para dejar o no redimensionar\n",
    "\n",
    "#«Frame()» crear un contenerdor para poner botones, etiquetas y cuadros de diálogo \n",
    "## «width» es para el ancho\n",
    "## «height» es para la altura\n",
    "## «bg» es para el color de fondo\n",
    "contenedor = tk.Frame(ventana2, width = \"500\", height = \"100\", bg = \"#BBFFF7\")\n",
    "contenedor.pack() #Empaquetamos el contenedor\n",
    "\n",
    "#########################################################\n",
    "#Función\n",
    "def indiceCorporal():\n",
    "    altura = float(a.get()) #Se convierte a flotanto lo que hay en el «cuadroA»\n",
    "    peso = float(p.get())  #Se convierte a flotanto lo que hay en el «cuadroP»\n",
    "    indice = round(peso/(altura**2), 2) #Se calcula el IMC\n",
    "    etiquetaR.config(text = indice) #Se cambia el texto de la «etiquetaR»\n",
    "\n",
    "#########################################################     ALTURA\n",
    "#«Label()» crea una etiqueta\n",
    "##«font» sirve para especificar el tipo y tamaño de letra\n",
    "##«text» sirve para manipular el texto de la etiqueta\n",
    "etiquetaA = tk.Label(contenedor, bg = \"#BBFFF7\", font = \"Arial 20\", text = \"Altura en metros\")\n",
    "etiquetaA.grid(row = 0, column = 0) #Se coloca en la fila uno, columna uno\n",
    "\n",
    "a = tk.StringVar() #Variable de tipo StringVar\n",
    "#«textvariable» sirve para guardar el texto del cuadro en una variable\n",
    "cuadroA = tk.Entry(contenedor, bg = \"#C195EB\", textvariable = a, font = \"Arial 20\")\n",
    "cuadroA.grid(row = 0, column = 1) #Se coloca en la fila uno, columna dos\n",
    "##########################################################    PESO\n",
    "etiquetaP = tk.Label(contenedor, bg = \"#BBFFF7\", font = \"Arial 20\", text = \"Peso en kilogramos\")\n",
    "etiquetaP.grid(row = 1, column = 0)\n",
    "\n",
    "p = tk.StringVar()\n",
    "cuadroP = tk.Entry(contenedor, bg = \"#C195EB\", textvariable = p, font = \"Arial 20\")\n",
    "cuadroP.grid(row = 1, column = 1)\n",
    "##########################################################    RESULTADO\n",
    "#«Button()» crea un botón\n",
    "## «command» sirve para especificar la función del botón\n",
    "## «padx» es para especificar el «padding» horizontal\n",
    "## «pady» es para especificar el «padding» vertical\n",
    "resultado = tk.Button(contenedor, command = lambda: indiceCorporal(), padx = 40, pady = 10, text = \"Calcular\")\n",
    "resultado.grid(row = 2, column = 0)\n",
    "\n",
    "etiquetaR = tk.Label(contenedor, bg = \"#BBFFF7\", font = \"Arial 20\", text = \" \")\n",
    "etiquetaR.grid(row = 2, column = 1)\n",
    "\n",
    "\n",
    "ventana2.mainloop() #Un cliclo para que la ventana no muera"
   ]
  }
 ],
 "metadata": {
  "kernelspec": {
   "display_name": "Python 2",
   "language": "python",
   "name": "python2"
  },
  "language_info": {
   "codemirror_mode": {
    "name": "ipython",
    "version": 2
   },
   "file_extension": ".py",
   "mimetype": "text/x-python",
   "name": "python",
   "nbconvert_exporter": "python",
   "pygments_lexer": "ipython2",
   "version": "2.7.16"
  }
 },
 "nbformat": 4,
 "nbformat_minor": 2
}
