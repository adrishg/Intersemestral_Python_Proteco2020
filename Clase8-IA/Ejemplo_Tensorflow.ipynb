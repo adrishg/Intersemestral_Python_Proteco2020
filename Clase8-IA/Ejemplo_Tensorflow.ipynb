{
  "nbformat": 4,
  "nbformat_minor": 0,
  "metadata": {
    "colab": {
      "name": "Ejemplo Tensorflow.ipynb",
      "provenance": [],
      "collapsed_sections": []
    },
    "kernelspec": {
      "name": "python3",
      "display_name": "Python 3"
    }
  },
  "cells": [
    {
      "cell_type": "code",
      "metadata": {
        "id": "xAsEHUjXYvsG",
        "colab_type": "code",
        "colab": {
          "base_uri": "https://localhost:8080/",
          "height": 469
        },
        "outputId": "8ee2888a-52c3-4507-e57e-9bc0a7b7d6dd"
      },
      "source": [
        "import numpy as np\n",
        "import matplotlib.pyplot as plt\n",
        "\n",
        "from sklearn.datasets import make_circles\n",
        "\n",
        "# Se crean los datos artificiales \n",
        "# Se busca clasificar en dos anillos concéntricos\n",
        "# En el método make_circles, n_samples es el número total de números generados,\n",
        "# factor es que tal separados estarán los circulos y noise es sobre probabilidad\n",
        "X, Y = make_circles(n_samples=500, factor=0.5, noise=0.05)\n",
        "\n",
        "# Resolución del mapa de predicción.\n",
        "res = 100\n",
        "\n",
        "# Coordendadas del mapa de predicción.\n",
        "_x0 = np.linspace(-1.5, 1.5, res)\n",
        "_x1 = np.linspace(-1.5, 1.5, res)\n",
        "\n",
        "# Entrada con cada combo de coordenadas del mapa de predicción.\n",
        "_pX = np.array(np.meshgrid(_x0, _x1)).T.reshape(-1, 2)\n",
        "\n",
        "# Objeto vacio a 0.5 del mapa de predicción.\n",
        "_pY = np.zeros((res, res)) + 0.5\n",
        "\n",
        "# Visualización del mapa de predicción.\n",
        "plt.figure(figsize=(8, 8))\n",
        "plt.pcolormesh(_x0, _x1, _pY, cmap=\"coolwarm\", vmin=0, vmax=1)\n",
        "\n",
        "# Visualización de la nube de datos.\n",
        "plt.scatter(X[Y == 0,0], X[Y == 0,1], c=\"skyblue\")\n",
        "plt.scatter(X[Y == 1,0], X[Y == 1,1], c=\"salmon\")\n",
        "\n",
        "plt.tick_params(labelbottom=False, labelleft=False)"
      ],
      "execution_count": null,
      "outputs": [
        {
          "output_type": "display_data",
          "data": {
            "image/png": "[encoded data removed]",
            "text/plain": [
              "<Figure size 576x576 with 1 Axes>"
            ]
          },
          "metadata": {
            "tags": []
          }
        }
      ]
    },
    {
      "cell_type": "code",
      "metadata": {
        "id": "9O3ab-JqloCk",
        "colab_type": "code",
        "colab": {
          "base_uri": "https://localhost:8080/",
          "height": 697
        },
        "outputId": "596e396a-bd8c-41a8-f4be-8ec2b6b99957"
      },
      "source": [
        "import tensorflow.compat.v1 as tf #Se importa la versión uno de tensorflow\n",
        "tf.disable_v2_behavior() #Se deshabilitan las funcionalidades de la segunda versión\n",
        "\n",
        "# Se definen los puntos de entrada de la red, para la matriz X e Y que están definidas arriba\n",
        "# En inglés se traducen como «placeholders»\n",
        "# Como primer parámetro se especifica el tipo de dato entre comillas\n",
        "# Como segundo parámetro se especifican las dimensiones \n",
        "iX = tf.placeholder('float', shape=[None, X.shape[1]])\n",
        "iY = tf.placeholder('float', shape=[None])\n",
        "\n",
        "# Número de neuronas por capa, en la primera capa están las entradas\n",
        "# En la segunda y tercera el número de neuronas puede varias\n",
        "# En la última capa solo está la salida\n",
        "nn = [2, 16, 8, 1]  \n",
        "\n",
        "# Se definen aquellos parámetros que serán optimizados por la red (Pesos y bias)\n",
        "# Estos valores van a ser inicializados de manera aleatoria\n",
        "# También se especifican las dimensiones\n",
        "W1 = tf.Variable(tf.random_normal([nn[0], nn[1]]), name='Pesos_1')\n",
        "b1 = tf.Variable(tf.random_normal([nn[1]]), name='Bias_1')\n",
        "\n",
        "# Se realizan las operaciones de la primera capa\n",
        "# Multiplicar los pesos por las variables, sumar el bias y \n",
        "# pasarlo por la función de activación relu\n",
        "# Nota: el bias es un valor de sesgo\n",
        "l1 = tf.nn.relu(tf.add(tf.matmul(iX, W1), b1))\n",
        "\n",
        "# Segunda capa\n",
        "W2 = tf.Variable(tf.random_normal([nn[1], nn[2]]), name='Weights_2')\n",
        "b2 = tf.Variable(tf.random_normal([nn[2]]), name='bias_2')\n",
        "\n",
        "l2 = tf.nn.relu(tf.add(tf.matmul(l1, W2), b2))\n",
        "\n",
        "# Tercera capa\n",
        "W3 = tf.Variable(tf.random_normal([nn[2], nn[3]]), name='Weights_3')\n",
        "b3 = tf.Variable(tf.random_normal([nn[3]]), name='bias_3')\n",
        "\n",
        "# Se pasa por la última función de activación que en este caso es la sigmoide\n",
        "# Vector de predicciones de Y que consiste solo en la primera columna\n",
        "pY = tf.nn.sigmoid(tf.add(tf.matmul(l2, W3), b3))[:, 0]\n",
        "\n",
        "# Evaluación de las predicciones. Con el error cuadrático medio\n",
        "# Como primer parametro está la predicción y como segundo esta el placeholder\n",
        "loss = tf.losses.mean_squared_error(pY, iY)\n",
        "\n",
        "# Definimos al optimizador de la red, para que minimice el error\n",
        "# El optimizador aquí está basado en el «gradiente de descenso»\n",
        "# La taza de aprendizaje es de 0.05\n",
        "# Se hace en base a la función de costo «loss» que se especificó antes\n",
        "optimizer = tf.train.GradientDescentOptimizer(learning_rate=0.05).minimize(loss)\n",
        "\n",
        "n_steps = 1000 # Número de ciclos de entrenamiento.\n",
        "\n",
        "# Session es donde está nuestro grafo computacional\n",
        "# Desde las operaciones hasta los tensores están definidos\n",
        "with tf.Session() as sess:\n",
        "  \n",
        "  # Inicializamos todos los parámetros de la red\n",
        "  # Dentro de estos también se encuentran los pesos y bias\n",
        "  sess.run(tf.global_variables_initializer())\n",
        "    \n",
        "  # Iteramos n pasos de entrenamiento.\n",
        "  for step in range(n_steps):\n",
        "  \n",
        "    # Evaluamos al optimizador, a la función de coste y al tensor de salida pY. \n",
        "    # La evaluación del optimizer producirá el entrenamiento de la red.\n",
        "    _, _loss, _pY = sess.run([optimizer, loss, pY], feed_dict={ iX : X, iY : Y })\n",
        "    \n",
        "    # Cada 25 iteraciones, imprimimos métricas.\n",
        "    if step % 25 == 0: \n",
        "      # Impresión de métricas.\n",
        "      print('Paso: ', step, 'Coste = ', _loss)"
      ],
      "execution_count": null,
      "outputs": [
        {
          "output_type": "stream",
          "text": [
            "Paso:  0 Coste =  0.45090726\n",
            "Paso:  25 Coste =  0.3136445\n",
            "Paso:  50 Coste =  0.27901834\n",
            "Paso:  75 Coste =  0.25791848\n",
            "Paso:  100 Coste =  0.24334231\n",
            "Paso:  125 Coste =  0.23100172\n",
            "Paso:  150 Coste =  0.2190357\n",
            "Paso:  175 Coste =  0.20369601\n",
            "Paso:  200 Coste =  0.18156138\n",
            "Paso:  225 Coste =  0.15885687\n",
            "Paso:  250 Coste =  0.1402718\n",
            "Paso:  275 Coste =  0.12384435\n",
            "Paso:  300 Coste =  0.10846188\n",
            "Paso:  325 Coste =  0.09616656\n",
            "Paso:  350 Coste =  0.08592719\n",
            "Paso:  375 Coste =  0.077416696\n",
            "Paso:  400 Coste =  0.070256576\n",
            "Paso:  425 Coste =  0.064258546\n",
            "Paso:  450 Coste =  0.058917817\n",
            "Paso:  475 Coste =  0.05413208\n",
            "Paso:  500 Coste =  0.049793016\n",
            "Paso:  525 Coste =  0.045828365\n",
            "Paso:  550 Coste =  0.04220016\n",
            "Paso:  575 Coste =  0.038946174\n",
            "Paso:  600 Coste =  0.036066703\n",
            "Paso:  625 Coste =  0.033504862\n",
            "Paso:  650 Coste =  0.03118407\n",
            "Paso:  675 Coste =  0.029076837\n",
            "Paso:  700 Coste =  0.027150458\n",
            "Paso:  725 Coste =  0.025415905\n",
            "Paso:  750 Coste =  0.023836622\n",
            "Paso:  775 Coste =  0.022401521\n",
            "Paso:  800 Coste =  0.021012494\n",
            "Paso:  825 Coste =  0.019772261\n",
            "Paso:  850 Coste =  0.018656006\n",
            "Paso:  875 Coste =  0.01762409\n",
            "Paso:  900 Coste =  0.016674139\n",
            "Paso:  925 Coste =  0.015799012\n",
            "Paso:  950 Coste =  0.015003823\n",
            "Paso:  975 Coste =  0.014276208\n"
          ],
          "name": "stdout"
        }
      ]
    }
  ]
}