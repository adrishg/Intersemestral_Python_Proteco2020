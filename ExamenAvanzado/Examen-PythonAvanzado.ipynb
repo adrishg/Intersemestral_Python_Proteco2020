{
 "cells": [
  {
   "cell_type": "markdown",
   "metadata": {},
   "source": [
    "# Examen Python Avanzado\n",
    "Hola a todos, estos serán los ejercicios que deberán hacer de la parte de módulos científicos (:"
   ]
  },
  {
   "cell_type": "markdown",
   "metadata": {},
   "source": [
    "### NumPy"
   ]
  },
  {
   "cell_type": "code",
   "execution_count": 2,
   "metadata": {},
   "outputs": [],
   "source": [
    "import numpy as np"
   ]
  },
  {
   "cell_type": "markdown",
   "metadata": {},
   "source": [
    "1) Crea un array de cuatros cuyo atributo shape sea (5,3,2)"
   ]
  },
  {
   "cell_type": "code",
   "execution_count": null,
   "metadata": {},
   "outputs": [],
   "source": []
  },
  {
   "cell_type": "markdown",
   "metadata": {},
   "source": [
    "2) Elabora una función que reciba número de filas y columnas y regrese un arreglo con dicho tamaño, con una distribución de 0 y 1 como tablero de ajedrez\n",
    "\n",
    "    Ejemplo: [In]: (3,6)  [Out]: array([[1., 0., 1., 0., 1., 0.],\n",
    "                                       [0., 1., 0., 1., 0., 1.],\n",
    "                                       [1., 0., 1., 0., 1., 0.]])"
   ]
  },
  {
   "cell_type": "markdown",
   "metadata": {},
   "source": [
    "3) A partir de los siguientes arreglos:"
   ]
  },
  {
   "cell_type": "code",
   "execution_count": 13,
   "metadata": {},
   "outputs": [
    {
     "name": "stdout",
     "output_type": "stream",
     "text": [
      "La matriz m1 es:\n",
      "[[0 1 2]\n",
      " [3 4 5]\n",
      " [6 7 8]]\n",
      "La matriz m2 es:\n",
      "[[ 9 10 11]\n",
      " [12 13 14]\n",
      " [15 16 17]]\n"
     ]
    }
   ],
   "source": [
    "m1 = np.arange(9).reshape([3, 3])\n",
    "m2 = np.arange(9, 18).reshape([3, 3])\n",
    "print(\"La matriz m1 es:\")\n",
    "print(m1)\n",
    "print(\"La matriz m2 es:\")\n",
    "print(m2)"
   ]
  },
  {
   "cell_type": "markdown",
   "metadata": {},
   "source": [
    "Crea los siguientes arreglos:\n",
    "\n",
    "\n",
    "    1)\n",
    "     [[ 0  1  2]\n",
    "     [ 3  4  5]\n",
    "     [ 6  7  8]\n",
    "     [ 9 10 11]\n",
    "     [12 13 14]\n",
    "     [15 16 17]]"
   ]
  },
  {
   "cell_type": "code",
   "execution_count": null,
   "metadata": {},
   "outputs": [],
   "source": []
  },
  {
   "cell_type": "markdown",
   "metadata": {},
   "source": [
    "    2) \n",
    "     [[ 0  1  2  9 10 11]\n",
    "     [ 3  4  5 12 13 14]\n",
    "     [ 6  7  8 15 16 17]]"
   ]
  },
  {
   "cell_type": "code",
   "execution_count": null,
   "metadata": {},
   "outputs": [],
   "source": []
  },
  {
   "cell_type": "markdown",
   "metadata": {},
   "source": [
    "4) Escribe una función que reciba una matriz y regrese True sí es una matriz identidad y un False si no es así\n",
    "\n",
    "        Ejemplo: [In]:[[1., 0., 0., 0.],                  [Out]: True\n",
    "                       [0., 1., 0., 0.],\n",
    "                       [0., 0., 1., 0.],\n",
    "                       [0., 0., 0., 1.]]"
   ]
  },
  {
   "cell_type": "code",
   "execution_count": null,
   "metadata": {},
   "outputs": [],
   "source": []
  },
  {
   "cell_type": "markdown",
   "metadata": {},
   "source": [
    "5) Haz una función que reciba una matriz y número, luego que te regrese una matriz donde te de un True si el \n",
    "elemento es mayor que el número ingresado y False si es menor\n",
    "\n",
    "    Ejemplo:  [In]: [[15, 85, 103, 444, 150, 200, 35, 47],      \n",
    "                     [532, 476, 0, 1011, 50, 674, 5, 999],\n",
    "                     [985, 7, 99, 101, 1, 58, 300, 78],\n",
    "                     [750, 649, 86, 8, 505, 41, 745, 187]]\n",
    "              [In]: 100\n",
    "                     \n",
    "              [Out]:  [[False, False,  True,  True,  True,  True, False, False],\n",
    "                       [ True,  True, False,  True, False,  True, False,  True],\n",
    "                       [ True, False, False,  True, False, False,  True, False],\n",
    "                       [ True,  True, False, False,  True, False,  True,  True]]"
   ]
  },
  {
   "cell_type": "markdown",
   "metadata": {},
   "source": [
    "### Pandas"
   ]
  },
  {
   "cell_type": "code",
   "execution_count": 15,
   "metadata": {},
   "outputs": [],
   "source": [
    "import pandas as pd"
   ]
  },
  {
   "cell_type": "code",
   "execution_count": 20,
   "metadata": {},
   "outputs": [
    {
     "data": {
      "text/plain": [
       "Index(['muy mala', 'mala', 'regular', 'buena', 'muy buena'], dtype='object')"
      ]
     },
     "execution_count": 20,
     "metadata": {},
     "output_type": "execute_result"
    }
   ],
   "source": [
    "datos = {\n",
    "    'fecha':pd.date_range('20200113', periods=6),\n",
    "    'experiencia':pd.Categorical(['buena', 'muy buena', 'mala', 'buena', 'muy mala', 'buena'],\n",
    "                                [\"muy mala\", \"mala\", \"regular\", \"buena\", \"muy buena\"]),\n",
    "    'monto':[120, 23.34, 123.34, 343.2, 23.4, 343.3],\n",
    "    'propina':[10, 5, 12, 45, 0, 30],\n",
    "    'opinion':['fria la comida', 'espere mucho tiempo', 'todo bien', 'excelente', 'mal servicio', 'Tardaron mucho']\n",
    "}\n",
    "df = pd.DataFrame(datos)\n",
    "df.experiencia.cat.categories"
   ]
  },
  {
   "cell_type": "markdown",
   "metadata": {},
   "source": [
    "1) A partir de los datos de arriba muestra el promedio de la propian que reciben"
   ]
  },
  {
   "cell_type": "code",
   "execution_count": null,
   "metadata": {},
   "outputs": [],
   "source": []
  },
  {
   "cell_type": "markdown",
   "metadata": {},
   "source": [
    "2) Muestra los datos de todas aquellas entradas que en la que la experiencia fue buena"
   ]
  },
  {
   "cell_type": "code",
   "execution_count": null,
   "metadata": {},
   "outputs": [],
   "source": []
  },
  {
   "cell_type": "markdown",
   "metadata": {},
   "source": [
    "3) Despliega todos los datos menos el primero"
   ]
  },
  {
   "cell_type": "code",
   "execution_count": null,
   "metadata": {},
   "outputs": [],
   "source": []
  },
  {
   "cell_type": "markdown",
   "metadata": {},
   "source": [
    "4) Ingresa a la columna de opinión usando la función loc y usando la función iloc"
   ]
  },
  {
   "cell_type": "code",
   "execution_count": null,
   "metadata": {},
   "outputs": [],
   "source": []
  },
  {
   "cell_type": "markdown",
   "metadata": {},
   "source": [
    "5) Explica cuál es la diferencia entre usar loc y usar iloc"
   ]
  },
  {
   "cell_type": "code",
   "execution_count": null,
   "metadata": {},
   "outputs": [],
   "source": []
  },
  {
   "cell_type": "markdown",
   "metadata": {},
   "source": [
    "### Sympy"
   ]
  },
  {
   "cell_type": "markdown",
   "metadata": {},
   "source": [
    "1)Definir la formula general de segundo grado, definir las variables necesarias"
   ]
  },
  {
   "cell_type": "code",
   "execution_count": null,
   "metadata": {},
   "outputs": [],
   "source": []
  },
  {
   "attachments": {},
   "cell_type": "markdown",
   "metadata": {},
   "source": [
    "2) Resolver la siguiente ecuación:\n",
    "$$-x^{2}+7x-10 = 0$$"
   ]
  },
  {
   "cell_type": "code",
   "execution_count": null,
   "metadata": {},
   "outputs": [],
   "source": []
  },
  {
   "cell_type": "markdown",
   "metadata": {},
   "source": [
    "3) Resolver la siguiente integral :\n",
    "\n",
    "$$F(x)=∫ x^{\\pi−1} f(x)dx$$"
   ]
  },
  {
   "cell_type": "code",
   "execution_count": null,
   "metadata": {},
   "outputs": [],
   "source": []
  },
  {
   "cell_type": "markdown",
   "metadata": {},
   "source": [
    "### Scipy"
   ]
  },
  {
   "cell_type": "markdown",
   "metadata": {},
   "source": [
    "1) Definir 5 constantes nuevas diferentes a las vistas en clase"
   ]
  },
  {
   "cell_type": "code",
   "execution_count": null,
   "metadata": {},
   "outputs": [],
   "source": []
  },
  {
   "cell_type": "markdown",
   "metadata": {},
   "source": [
    "2) Obten los mínimos cuadrados de:\n",
    "$$x^{4}+7x^{2}+17$$"
   ]
  },
  {
   "cell_type": "code",
   "execution_count": null,
   "metadata": {},
   "outputs": [],
   "source": []
  },
  {
   "cell_type": "markdown",
   "metadata": {},
   "source": [
    "### Matplotlib"
   ]
  },
  {
   "cell_type": "markdown",
   "metadata": {},
   "source": [
    "1) Crea un gráfico que se vea como el siguiente:\n",
    "![](https://drive.google.com/uc?id=1zFKbPx-qH12UEfZHEHkxMhAyuU-96I0G)"
   ]
  },
  {
   "cell_type": "code",
   "execution_count": null,
   "metadata": {},
   "outputs": [],
   "source": []
  },
  {
   "cell_type": "markdown",
   "metadata": {},
   "source": [
    "2) Crea un gráfico con dos funciones seno que se vea de esta manera\n",
    "![cosenos](https://drive.google.com/uc?id=1tSNHiQgbpth21rOEHmVu3FPLts7W1gAh)"
   ]
  },
  {
   "cell_type": "code",
   "execution_count": null,
   "metadata": {},
   "outputs": [],
   "source": []
  },
  {
   "cell_type": "markdown",
   "metadata": {},
   "source": [
    "3) Realiza una gráfica con x contra x, x al cuadrado y x cúbica.\n",
    "\n",
    "![grafica x](https://drive.google.com/uc?id=1Jyag35ne8a3CqaJXzB_L3mlp3dA0VtI0)"
   ]
  },
  {
   "cell_type": "code",
   "execution_count": null,
   "metadata": {},
   "outputs": [],
   "source": []
  },
  {
   "cell_type": "markdown",
   "metadata": {},
   "source": [
    "4) Crea la gráfica anterior pero ahora con líneas punteadas"
   ]
  },
  {
   "cell_type": "code",
   "execution_count": null,
   "metadata": {},
   "outputs": [],
   "source": []
  },
  {
   "cell_type": "markdown",
   "metadata": {},
   "source": [
    "5) Visita la siguiente página: https://python-graph-gallery.com/matplotlib/\n",
    "\n",
    "\n",
    "Es una galeria de distintas gráficas hechas en matplotlib, puedes acceder al código, elige una y agregala comentandola en español "
   ]
  },
  {
   "cell_type": "code",
   "execution_count": null,
   "metadata": {},
   "outputs": [],
   "source": []
  }
 ],
 "metadata": {
  "kernelspec": {
   "display_name": "Python 3",
   "language": "python",
   "name": "python3"
  },
  "language_info": {
   "codemirror_mode": {
    "name": "ipython",
    "version": 3
   },
   "file_extension": ".py",
   "mimetype": "text/x-python",
   "name": "python",
   "nbconvert_exporter": "python",
   "pygments_lexer": "ipython3",
   "version": "3.7.3"
  }
 },
 "nbformat": 4,
 "nbformat_minor": 2
}
